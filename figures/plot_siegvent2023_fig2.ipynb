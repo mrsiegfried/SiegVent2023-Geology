{
 "cells": [
  {
   "cell_type": "markdown",
   "id": "e91ec203",
   "metadata": {},
   "source": [
    "Code to process data for and plot Figure 2 from Siegfried\\*, Venturelli\\*, et al. (2023)\n",
    "\n",
    "This notebook also estimates the mean and standard deviation lake sediment thickness\n",
    "\n",
    "Email siegfried@mines.edu and venturelli@mines.edu with any questions"
   ]
  },
  {
   "cell_type": "code",
   "execution_count": 1,
   "id": "3703988b",
   "metadata": {},
   "outputs": [],
   "source": [
    "from pydicom import dcmread\n",
    "import matplotlib.pyplot as plt\n",
    "import seaborn as sns\n",
    "import pygmt \n",
    "                 \n",
    "import pandas as pd\n",
    "import numpy as np\n",
    "from glob import glob\n",
    "import time\n",
    "import random\n",
    "import skimage.segmentation as seg\n",
    "from scipy import optimize"
   ]
  },
  {
   "cell_type": "markdown",
   "id": "b595942e",
   "metadata": {},
   "source": [
    "# Initial load of CT dicom files\n",
    "\n",
    "We have all the individual CT images stored in `data/01UW-C` as dicom files. Loop through them, load them, and then sort them by the slice location to make sure they are listed in our list (`slices`) of 2D numpy arrays (`ds`) correctly"
   ]
  },
  {
   "cell_type": "code",
   "execution_count": 2,
   "id": "02a5ee0f",
   "metadata": {},
   "outputs": [
    {
     "name": "stdout",
     "output_type": "stream",
     "text": [
      "skipped, no SliceLocation: 0\n",
      "loaded: 34\n"
     ]
    }
   ],
   "source": [
    "# get the list of files for the core\n",
    "files = glob('../data/cores/01UW-C/IM*')\n",
    "\n",
    "# skip files with no SliceLocation information (should be a float)\n",
    "slices = []\n",
    "skipcount = 0\n",
    "for f in files:\n",
    "    ds = dcmread(f)\n",
    "    if isinstance(ds.SliceLocation,float):\n",
    "        slices.append(ds)\n",
    "    else:\n",
    "        skipcount = skipcount + 1\n",
    "\n",
    "print(\"skipped, no SliceLocation: {}\".format(skipcount))\n",
    "print(\"loaded: {}\".format(len(slices)))\n",
    "# re-sort to put the slices in the right order\n",
    "slices = sorted(slices, key=lambda s: s.SliceLocation)"
   ]
  },
  {
   "cell_type": "markdown",
   "id": "fc81e314",
   "metadata": {},
   "source": [
    "# Initial processing\n",
    "\n",
    "Now that they are loaded, we need to build the 3D numpy array (`img3d`), then toss out the bits of the images that are just CT background\n",
    "\n",
    "After we do that, we are left with our 3D numpy array `core` that forms the basis of everything we will do. The first thing will be to run a quick unsupervised classification to isolate lake sediments at the top of the column"
   ]
  },
  {
   "cell_type": "code",
   "execution_count": 3,
   "id": "764562a0",
   "metadata": {},
   "outputs": [],
   "source": [
    "# pixel dimensions, assuming all slices are the same\n",
    "ps = slices[0].PixelSpacing\n",
    "ss = slices[0].SliceThickness\n",
    "\n",
    "# create 3D array\n",
    "img_shape = list(slices[0].pixel_array.shape)\n",
    "img_shape.append(len(slices))\n",
    "img3d = np.zeros(img_shape)\n",
    "\n",
    "# fill 3D array with the images from the files\n",
    "for i, s in enumerate(slices):\n",
    "    img2d = s.pixel_array\n",
    "    img3d[:, :, i] = img2d\n",
    "    \n",
    "# Subset to get rid of most of the background -- indices determined by hand\n",
    "core = np.copy(img3d[70:1500,670:871,:])\n",
    "\n",
    "# get the shape of the images and make vectors for x (columns), y (rows), and z (slices).\n",
    "shp = core.shape\n",
    "yvals = np.arange(0,shp[0])*ps[0]\n",
    "xvals = np.arange(0,shp[1])*ps[1]-np.mean(np.arange(0,shp[1])*ps[1])\n",
    "zvals = np.arange(0,shp[2])*ss-np.mean(np.arange(0,shp[2])*ss)\n",
    "\n",
    "# go through and do a quick unsupervised classification of the core that\n",
    "# we will use as a mask to only look at laminated lake sediments\n",
    "core_mask = np.empty(core.shape)\n",
    "for i in np.arange(0,shp[2]):\n",
    "    thisslice = core[:,:,i]\n",
    "    mskd = seg.slic(thisslice, n_segments=3, start_label=0)\n",
    "    core_mask[:,:,i] = mskd\n",
    "\n",
    "# load traced tops of undeformed core -- these are indices relative to 70 mm that were hand picked\n",
    "coretops = pd.read_csv('../data/cores/core_tops.csv')\n",
    "\n",
    "# only use indices from -2 cm to +2.5 cm in x (edges are deformed)\n",
    "minx = -20 # in mm\n",
    "maxx = 25 # in mm\n",
    "ix = np.where(np.logical_and(xvals>=minx, xvals<=maxx))[0]\n",
    "xvals_subset = xvals[ix]"
   ]
  },
  {
   "cell_type": "markdown",
   "id": "8de1f583",
   "metadata": {},
   "source": [
    "# Processing to brightness values\n",
    "\n",
    "Let's process to brightness values now. \n",
    "\n",
    "There are two cells to do this:\n",
    "\n",
    "(1) Mask to only lake sediments. This NaN-pads the top of the region until it reaches the top of the lake sediments (which were hand traced horizons). This cell also plots each slice  with non-lake sediments transparent and lake sediments full opacity as a sanity check to make sure everything worked right\n",
    "\n",
    "(2) With all the images appropriately masked, we concatonated all the traces into an individual pandas dataframe, then filter it to remove clasts (identified with a brightness threshold determined by looking at a histogram) and remove voids (identified as negative brightness values). We set the threshold to throw out a trace at 2% for each. We then plot all the traces side-by-side, the traces filtered for clasts, the traces filtered for voids, and the traces filtered for voids and clasts to make sure everything looks right."
   ]
  },
  {
   "cell_type": "code",
   "execution_count": 4,
   "id": "f03e4327",
   "metadata": {},
   "outputs": [],
   "source": [
    "# sample core vertical for pixel brightness values\n",
    "# limit to certain slices and certain location in the core to avoid deformed bits\n",
    "\n",
    "# need a consistent area of laminated lake seds to find the right mask value; arbitrarily determined\n",
    "miny_laminated = 100 # in mm\n",
    "maxy_laminated = 120 # in mm\n",
    "iy_laminated = np.where(np.logical_and(yvals>=miny_laminated, yvals<=maxy_laminated))[0]\n",
    "\n",
    "\n",
    "# only use incides from slices at -11.0 mm to 3.0 mm determined as the\n",
    "# undeformed slices by eye. \n",
    "min_slice = -13 # in mm\n",
    "max_slice = -5 # in mm\n",
    "iz = np.where(np.logical_and(zvals>=min_slice, zvals<=max_slice))[0]\n",
    "\n",
    "# grab depth indices that we will extract\n",
    "miny = 70 # in mm\n",
    "maxy = 170 # in mm\n",
    "iy = np.where(np.logical_and(yvals>=miny, yvals<=maxy))[0]\n",
    "yvals_subset = yvals[iy]\n",
    "\n",
    "traces_out = np.empty((len(yvals_subset),len(xvals_subset)*len(iz)))\n",
    "\n",
    "# extract each slice of undeformed laminated sediments\n",
    "for cnt,i in enumerate(iz):\n",
    "    thisslice = np.copy(core[:,:,i])\n",
    "    seds_nomsk = np.copy(thisslice)\n",
    "    thistop = coretops.iloc[:,[cnt]]\n",
    "\n",
    "    # mask the core slice\n",
    "    msk = core_mask[:,:,i]\n",
    "    msk_val = np.round(msk[iy_laminated,:][:,ix].mean())\n",
    "    thisslice[msk!=msk_val] = np.nan\n",
    "    thisslice[thisslice<0] = np.nan\n",
    "    \n",
    "    # subset to the lake sediments\n",
    "    seds = thisslice[iy,:][:,ix]\n",
    "    seds_nomsk = seds_nomsk[iy,:][:,ix]\n",
    "    \n",
    "    # go through each vertical trace and fill nans to the core top\n",
    "    for j in np.arange(0,len(seds[0,:])):\n",
    "        seds[0:int(thistop.iloc[j]),j] = np.nan\n",
    "    \n",
    "    traces_out[:,cnt*len(xvals_subset):(cnt+1)*len(xvals_subset)] = seds\n"
   ]
  },
  {
   "cell_type": "code",
   "execution_count": 5,
   "id": "492cedc0",
   "metadata": {},
   "outputs": [],
   "source": [
    "thresh = 800 # brightness threshold for saying something is a clast\n",
    "filt_limit = 0.02 # if a trace has more than this fraction of \"bad\" data, throw it out\n",
    "\n",
    "# calculate number of values between top and bottom of lake sediments\n",
    "shp = traces_out.shape\n",
    "num_values=np.empty(shp[1])\n",
    "\n",
    "# find the last NaN on top and the first NaN on bottom, then calculate the number of indices in-between\n",
    "for i in np.arange(0,shp[1]):\n",
    "    thistrace = traces_out[:,i]\n",
    "    idx_start = np.argmin(np.isnan(thistrace))\n",
    "    idx_end = len(thistrace)-np.argmin(np.isnan(np.flip(thistrace)))\n",
    "    num_values[i] = idx_end - idx_start\n",
    "    \n",
    "# use our clast brightness threshold to filter\n",
    "clasts=traces_out>thresh\n",
    "no_clasts = np.sum(clasts,axis=0)/num_values < filt_limit\n",
    "\n",
    "# we already replaced all negative brightness with nan, so now we just count them up\n",
    "no_voids = np.sum(~np.isnan(traces_out), axis=0)/num_values > 1 - filt_limit\n"
   ]
  },
  {
   "cell_type": "code",
   "execution_count": 6,
   "id": "7a732cfa",
   "metadata": {},
   "outputs": [
    {
     "data": {
      "text/plain": [
       "\"\\ndf_filtered = pd.DataFrame(traces_out[:,np.logical_and(no_clasts,no_voids)])\\ndf_filtered = df_filtered.set_index(yvals_subset-yvals_subset[0])\\ndf_filtered.to_csv('../data/cores/asm_input_data/core_traces_filtered.csv', header = False, na_rep='nan')\\n\""
      ]
     },
     "execution_count": 6,
     "metadata": {},
     "output_type": "execute_result"
    }
   ],
   "source": [
    "# Cell for saving all the traces, which is used in proc/!\n",
    "# (uncomment this to do the saving)\n",
    "\"\"\"\n",
    "df_filtered = pd.DataFrame(traces_out[:,np.logical_and(no_clasts,no_voids)])\n",
    "df_filtered = df_filtered.set_index(yvals_subset-yvals_subset[0])\n",
    "df_filtered.to_csv('../data/cores/asm_input_data/core_traces_filtered.csv', header = False, na_rep='nan')\n",
    "\"\"\""
   ]
  },
  {
   "cell_type": "code",
   "execution_count": 7,
   "id": "7e8e5669",
   "metadata": {},
   "outputs": [
    {
     "data": {
      "image/png": "[encoded data removed]",
      "text/plain": [
       "<Figure size 432x288 with 1 Axes>"
      ]
     },
     "metadata": {},
     "output_type": "display_data"
    },
    {
     "name": "stdout",
     "output_type": "stream",
     "text": [
      "mean lake sediment thickness: 119.84182031250002 ± 1.8554942368611402\n"
     ]
    }
   ],
   "source": [
    "# sample core vertical for pixel brightness values\n",
    "# limit to certain slices and certain location in the core to avoid deformed bits\n",
    "\n",
    "# only use incides from slices at -11.0 mm to 3.0 mm determined as the\n",
    "# undeformed slices by eye. \n",
    "min_slice = -13 # in mm\n",
    "max_slice = -5 # in mm\n",
    "iz = np.where(np.logical_and(zvals>=min_slice, zvals<=max_slice))[0]\n",
    "\n",
    "# grab depth indices that we will extract\n",
    "miny = 20 # in mm\n",
    "maxy = 170 # in mm\n",
    "iy = np.where(np.logical_and(yvals>=miny, yvals<=maxy))[0]\n",
    "yvals_subset = yvals[iy]\n",
    "\n",
    "traces_out = np.empty((len(yvals_subset),len(xvals_subset)*len(iz)))\n",
    "\n",
    "# extract each slice of undeformed laminated sediments\n",
    "for cnt,i in enumerate(iz):\n",
    "    thisslice = np.copy(core[:,:,i])\n",
    "    seds_nomsk = np.copy(thisslice)\n",
    "\n",
    "    # mask the core slice\n",
    "    msk = core_mask[:,:,i]\n",
    "    msk_val = np.round(msk[iy_laminated,:][:,ix].mean())\n",
    "    thisslice[msk!=msk_val] = np.nan\n",
    "    thisslice[thisslice<0] = np.nan\n",
    "    \n",
    "    # subset to the lake sediments\n",
    "    seds = thisslice[iy,:][:,ix]\n",
    "    seds_nomsk = seds_nomsk[iy,:][:,ix]\n",
    "    \n",
    "    traces_out[:,cnt*len(xvals_subset):(cnt+1)*len(xvals_subset)] = seds\n",
    "\n",
    "# calculate number of values between top of core and bottom of lake sediments\n",
    "shp = traces_out.shape\n",
    "num_values=np.empty(shp[1])\n",
    "idx_start=np.empty(shp[1])\n",
    "idx_end=np.empty(shp[1])\n",
    "\n",
    "# find the last NaN on top and the first NaN on bottom, then calculate the number of indices in-between\n",
    "for i in np.arange(0,shp[1]):\n",
    "    thistrace = traces_out[:,i]\n",
    "    idx_start[i] = np.argmin(np.isnan(thistrace))\n",
    "    idx_end[i] = len(thistrace)-np.argmin(np.isnan(np.flip(thistrace)))\n",
    "    num_values[i] = idx_end[i] - idx_start[i]\n",
    "    \n",
    "fig,ax = plt.subplots(1,1,facecolor='white')\n",
    "plt.hist(num_values*ps[1])\n",
    "plt.xlabel('thickness of laminated sediments [mm]')\n",
    "plt.ylabel('count')\n",
    "plt.show()\n",
    "print('mean lake sediment thickness: ' + \n",
    "      str(np.mean(num_values*ps[1])) + \n",
    "      ' ± '  + str(np.std(num_values*ps[1])))"
   ]
  },
  {
   "cell_type": "code",
   "execution_count": null,
   "id": "a6e926d0",
   "metadata": {},
   "outputs": [],
   "source": [
    "np.savetxt('../data/cores/spectral_analysis/thickness_distribution.txt', num_values*ps[1])"
   ]
  },
  {
   "cell_type": "markdown",
   "id": "68d85eb4",
   "metadata": {},
   "source": [
    "## Now let's plot Figure 2"
   ]
  },
  {
   "cell_type": "code",
   "execution_count": 34,
   "id": "babd02fb",
   "metadata": {},
   "outputs": [
    {
     "data": {
      "image/png": "[encoded data removed]",
      "text/plain": [
       "<Figure size 158.76x229.181 with 2 Axes>"
      ]
     },
     "metadata": {},
     "output_type": "display_data"
    }
   ],
   "source": [
    "###### PLOT FIGURE 2 - LAMINATED SEDIMENTS WITH BRIGHTNESS TRACE\n",
    "\n",
    "#### pre-process the laminated core image\n",
    "thresh = 800 # brightness threshold for saying something is a clast\n",
    "idx_top = 90\n",
    "idx_bottom = 475\n",
    "idx_left = 5\n",
    "\n",
    "# only use indices from -2 cm to +2.5 cm in x (edges are deformed)\n",
    "minx = -20 # in mm\n",
    "maxx = 25 # in mm\n",
    "ix = np.where(np.logical_and(xvals>=minx, xvals<=maxx))[0]\n",
    "xvals_subset = xvals[ix]\n",
    "\n",
    "# need a consistent area of laminated lake seds to find the right mask value; arbitrarily determined\n",
    "miny_laminated = 100 # in mm\n",
    "maxy_laminated = 120 # in mm\n",
    "iy_laminated = np.where(np.logical_and(yvals>=miny_laminated, yvals<=maxy_laminated))[0]\n",
    "\n",
    "#plot the slice at -5 mm\n",
    "slice_val = -13\n",
    "i = np.where(zvals==slice_val)[0]\n",
    "msk = core_mask[:,:,i]\n",
    "thisslice = np.copy(core[:,:,i])\n",
    "msk_val = np.round(msk[iy_laminated,:][:,ix].mean())\n",
    "thisslice[msk!=msk_val] = np.nan #mask non-laminated seds\n",
    "thisslice[thisslice<0] = np.nan #filter voids\n",
    "thisslice[thisslice>thresh] = np.nan #filter clasts\n",
    "\n",
    "xwid = max(xvals_subset)-min(xvals_subset)\n",
    "ywid = yvals[idx_bottom] - yvals[idx_top]\n",
    "figwid = 1.05\n",
    "fighgt = figwid * ywid/xwid\n",
    "wspace=0\n",
    "climits = [100,700]\n",
    "\n",
    "i_trace=int(np.floor(ix.shape[0]/10)*9)\n",
    "with plt.rc_context({\"axes.labelsize\": 8, \n",
    "                     \"xtick.labelsize\": 8, \"ytick.labelsize\": 8,\n",
    "                     'xtick.major.pad': 1, 'ytick.major.pad': 0, \n",
    "                     'axes.labelpad': 2}):\n",
    "    fig,(ax1,ax2) = plt.subplots(1,2, figsize=(figwid*2.1+figwid*wspace,fighgt), facecolor='white', \n",
    "                                 gridspec_kw={'width_ratios': [1,1.1],'wspace':wspace})\n",
    "\n",
    "#### plot panel A. - core image\n",
    "    im2 = ax1.imshow(thisslice[idx_top:idx_bottom,ix], cmap='plasma', \n",
    "                     extent=[min(xvals_subset)-np.mean(xvals_subset), \n",
    "                             max(xvals_subset)-np.mean(xvals_subset), \n",
    "                             yvals[idx_bottom]-yvals[idx_top], 0],\n",
    "                     aspect=\"auto\")\n",
    "    im1 = ax1.imshow(core[idx_top:idx_bottom,ix,i], cmap='plasma', \n",
    "                     extent=[min(xvals_subset)-np.mean(xvals_subset), \n",
    "                             max(xvals_subset)-np.mean(xvals_subset), \n",
    "                             yvals[idx_bottom]-yvals[idx_top], 0],\n",
    "                     alpha=0.1, aspect = \"auto\")\n",
    "\n",
    "    im1.set_clim(climits)\n",
    "    im2.set_clim(climits)\n",
    "    ax1.set_xlabel('$\\it{x}$ (mm)')\n",
    "    ax1.set_ylabel('$\\it{z}$ (mm)')\n",
    "    ax1.plot([xvals_subset[i_trace]-np.mean(xvals_subset),\n",
    "              xvals_subset[i_trace]-np.mean(xvals_subset)],\n",
    "             [0,yvals[idx_bottom] - yvals[idx_top]],'k',alpha=0.5)\n",
    "    \n",
    "    # plot panel (b)\n",
    "    ax2.yaxis.set_visible(False)\n",
    "    ax2.xaxis.set_visible(False)\n",
    "    ax2.spines['right'].set_visible(False)\n",
    "    ax2.spines['top'].set_visible(False)\n",
    "    ax2.spines['bottom'].set_visible(False)\n",
    "    ax2.spines['left'].set_visible(False)\n",
    "    \n",
    "    # plot example trace\n",
    "    ax2.plot(thisslice[idx_top:idx_bottom,ix[i_trace]],\n",
    "             yvals[idx_top:idx_bottom] - yvals[idx_top],'k')\n",
    "    ax2.annotate(\"Increasing\\nbrightness\", size=6,\n",
    "                 xy=(400, 130), xytext=(400, 130),\n",
    "                 ha=\"center\", va=\"top\")\n",
    "    ax2.annotate(\"\", size=6,\n",
    "                 xy=(700, 128), xytext=(150, 128),\n",
    "                 arrowprops=dict(arrowstyle=\"->\"))\n",
    "    ax2.invert_yaxis()\n",
    "    ax2.set_ylim(yvals[idx_bottom]-yvals[idx_top], 0)\n",
    "    ax2.set_xlim(climits)\n",
    "    \n",
    "\n",
    "\n",
    "    plt.savefig('siegvent2023-fig2.png', \n",
    "                bbox_inches='tight', transparent = False, dpi = 600)\n",
    "    plt.show()\n",
    "    \n",
    "\n",
    "########\n"
   ]
  },
  {
   "cell_type": "code",
   "execution_count": null,
   "id": "6508d5bd",
   "metadata": {},
   "outputs": [],
   "source": []
  }
 ],
 "metadata": {
  "kernelspec": {
   "display_name": "siegvent2023",
   "language": "python",
   "name": "siegvent2023"
  },
  "language_info": {
   "codemirror_mode": {
    "name": "ipython",
    "version": 3
   },
   "file_extension": ".py",
   "mimetype": "text/x-python",
   "name": "python",
   "nbconvert_exporter": "python",
   "pygments_lexer": "ipython3",
   "version": "3.8.15"
  }
 },
 "nbformat": 4,
 "nbformat_minor": 5
}
